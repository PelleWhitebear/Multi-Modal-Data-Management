{
 "cells": [
  {
   "cell_type": "code",
   "execution_count": 2,
   "id": "db72730a-8478-4977-93a6-c8f118620837",
   "metadata": {},
   "outputs": [],
   "source": [
    "import sys\n",
    "import os\n",
    "import boto3\n",
    "import logging"
   ]
  },
  {
   "cell_type": "code",
   "execution_count": 5,
   "id": "a2824145-4540-44d2-a9e5-7d80e406aead",
   "metadata": {},
   "outputs": [],
   "source": [
    "notebook_dir = os.path.abspath('') \n",
    "project_root = os.path.join(notebook_dir, '../../')\n",
    "global_scripts_path = os.path.join(project_root, 'global_scripts')\n",
    "\n",
    "if global_scripts_path not in sys.path:\n",
    "    sys.path.append(global_scripts_path)\n",
    "\n",
    "from utils import *\n",
    "from consts import *"
   ]
  },
  {
   "cell_type": "code",
   "execution_count": 6,
   "id": "80ea511e-147f-4110-951d-b3c2426b4e4d",
   "metadata": {},
   "outputs": [
    {
     "name": "stderr",
     "output_type": "stream",
     "text": [
      "2025-10-17 10:30:29,805 - [INFO] - Connected to MinIO.\n"
     ]
    }
   ],
   "source": [
    "s3_client = boto3.client(\n",
    "    \"s3\",\n",
    "    endpoint_url=ENDPOINT_URL,\n",
    "    aws_access_key_id=AWS_ACCESS_KEY_ID,\n",
    "    aws_secret_access_key=AWS_SECRET_ACCESS_KEY,\n",
    ")\n",
    "logging.info(\"Connected to MinIO.\")"
   ]
  },
  {
   "cell_type": "code",
   "execution_count": 7,
   "id": "6c098597-a13d-45dc-af5a-103506c6a75e",
   "metadata": {},
   "outputs": [
    {
     "name": "stderr",
     "output_type": "stream",
     "text": [
      "2025-10-17 10:32:49,537 - [INFO] - Bucket 'formatted-zone' created.\n",
      "2025-10-17 10:32:49,549 - [INFO] - Sub-bucket 'json' created.\n",
      "2025-10-17 10:32:49,561 - [INFO] - Sub-bucket 'media' created.\n"
     ]
    },
    {
     "data": {
      "text/plain": [
       "True"
      ]
     },
     "execution_count": 7,
     "metadata": {},
     "output_type": "execute_result"
    }
   ],
   "source": [
    "create_bucket(s3_client, FORMATTED_ZONE_BUCKET)\n",
    "create_sub_bucket(s3_client, FORMATTED_ZONE_BUCKET, JSON_SUB_BUCKET)\n",
    "create_sub_bucket(s3_client, FORMATTED_ZONE_BUCKET, MEDIA_SUB_BUCKET)"
   ]
  }
 ],
 "metadata": {
  "kernelspec": {
   "display_name": "Python 3 (ipykernel)",
   "language": "python",
   "name": "python3"
  },
  "language_info": {
   "codemirror_mode": {
    "name": "ipython",
    "version": 3
   },
   "file_extension": ".py",
   "mimetype": "text/x-python",
   "name": "python",
   "nbconvert_exporter": "python",
   "pygments_lexer": "ipython3",
   "version": "3.12.3"
  }
 },
 "nbformat": 4,
 "nbformat_minor": 5
}
