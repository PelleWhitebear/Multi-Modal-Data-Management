{
 "cells": [
  {
   "cell_type": "markdown",
   "id": "48107a28-f7c4-4d66-a8c0-bea05aebcff7",
   "metadata": {},
   "source": [
    "## Imports and set directory path"
   ]
  },
  {
   "cell_type": "code",
   "execution_count": 2,
   "id": "f5ddcb3b-4999-4ac0-bff6-82787d0f0c4a",
   "metadata": {},
   "outputs": [
    {
     "ename": "ModuleNotFoundError",
     "evalue": "No module named 'moviepy.editor'",
     "output_type": "error",
     "traceback": [
      "\u001b[31m---------------------------------------------------------------------------\u001b[39m",
      "\u001b[31mModuleNotFoundError\u001b[39m                       Traceback (most recent call last)",
      "\u001b[36mCell\u001b[39m\u001b[36m \u001b[39m\u001b[32mIn[2]\u001b[39m\u001b[32m, line 6\u001b[39m\n\u001b[32m      4\u001b[39m \u001b[38;5;28;01mimport\u001b[39;00m\u001b[38;5;250m \u001b[39m\u001b[34;01mboto3\u001b[39;00m\n\u001b[32m      5\u001b[39m \u001b[38;5;28;01mimport\u001b[39;00m\u001b[38;5;250m \u001b[39m\u001b[34;01mlogging\u001b[39;00m\n\u001b[32m----> \u001b[39m\u001b[32m6\u001b[39m \u001b[38;5;28;01mfrom\u001b[39;00m\u001b[38;5;250m \u001b[39m\u001b[34;01mmoviepy\u001b[39;00m\u001b[34;01m.\u001b[39;00m\u001b[34;01meditor\u001b[39;00m\u001b[38;5;250m \u001b[39m\u001b[38;5;28;01mimport\u001b[39;00m VideoFileClip\n\u001b[32m      7\u001b[39m \u001b[38;5;28;01mimport\u001b[39;00m\u001b[38;5;250m \u001b[39m\u001b[34;01mtempfile\u001b[39;00m\n",
      "\u001b[31mModuleNotFoundError\u001b[39m: No module named 'moviepy.editor'"
     ]
    }
   ],
   "source": [
    "import sys\n",
    "import os\n",
    "import io\n",
    "import boto3\n",
    "import logging\n",
    "from moviepy.editor import VideoFileClip\n",
    "import tempfile"
   ]
  },
  {
   "cell_type": "code",
   "execution_count": 8,
   "id": "3e95ff2e-3d2a-435d-8b53-13ad4ef2e297",
   "metadata": {},
   "outputs": [],
   "source": [
    "notebook_dir = os.path.abspath('') \n",
    "project_root = os.path.join(notebook_dir, '../../')\n",
    "global_scripts_path = os.path.join(project_root, 'global_scripts')\n",
    "\n",
    "if global_scripts_path not in sys.path:\n",
    "    sys.path.append(global_scripts_path)\n",
    "\n",
    "from utils import *\n",
    "from consts import *"
   ]
  },
  {
   "cell_type": "code",
   "execution_count": 9,
   "id": "58614449-c2f6-4156-b006-ceb7c83a7421",
   "metadata": {},
   "outputs": [],
   "source": [
    "setup_logging(\"format_videos.log\")"
   ]
  },
  {
   "cell_type": "markdown",
   "id": "880557d6-a977-45dc-8e14-1c67b1d5a2ca",
   "metadata": {},
   "source": [
    "## Connect to MinIO client"
   ]
  },
  {
   "cell_type": "code",
   "execution_count": 10,
   "id": "a9392f5b-de15-46b6-a4ed-9118637cf66f",
   "metadata": {},
   "outputs": [],
   "source": [
    "s3_client = boto3.client(\n",
    "    \"s3\",\n",
    "    endpoint_url=ENDPOINT_URL,\n",
    "    aws_access_key_id=AWS_ACCESS_KEY_ID,\n",
    "    aws_secret_access_key=AWS_SECRET_ACCESS_KEY,\n",
    ")\n",
    "logging.info(\"Connected to MinIO.\")"
   ]
  },
  {
   "cell_type": "code",
   "execution_count": 11,
   "id": "9b95c39b-3202-4507-b894-fc74345dc664",
   "metadata": {},
   "outputs": [
    {
     "name": "stdout",
     "output_type": "stream",
     "text": [
      "74\n"
     ]
    }
   ],
   "source": [
    "## Retrieve images from landing zone\n",
    "objects = s3_client.list_objects_v2(Bucket=LANDING_ZONE_BUCKET, Prefix=f'{PERSISTENT_SUB_BUCKET}/media/video/')\n",
    "print(len(objects['Contents']))"
   ]
  },
  {
   "cell_type": "markdown",
   "id": "3bb933e8-3571-46cc-821a-07ee9c993f5f",
   "metadata": {},
   "source": [
    "## Unify format for all videos"
   ]
  },
  {
   "cell_type": "code",
   "execution_count": 12,
   "id": "41ed4bbf-d913-421e-ab2a-459a60707cf4",
   "metadata": {},
   "outputs": [],
   "source": [
    "def delete_videos_from_formatted(s3_client):\n",
    "    logging.info(f\"Preparing to delete all objects in sub-bucket {FORMATTED_ZONE_BUCKET}/{MEDIA_SUB_BUCKET}/video\")\n",
    "    prefix_videos = f\"{MEDIA_SUB_BUCKET}/video/\"\n",
    "    try:\n",
    "        # list objects to delete\n",
    "        objects_to_delete = s3_client.list_objects_v2(Bucket=FORMATTED_ZONE_BUCKET, Prefix=prefix_videos)\n",
    "        if 'Contents' not in objects_to_delete:\n",
    "            logging.warning(f\"No objects found with prefix '{prefix_videos}'. Nothing to delete.\")\n",
    "            return True\n",
    "        delete_keys = {'Objects': [{'Key': obj['Key']} for obj in objects_to_delete['Contents']]}\n",
    "\n",
    "        # delete them\n",
    "        response = s3_client.delete_objects(Bucket=FORMATTED_ZONE_BUCKET, Delete=delete_keys)\n",
    "\n",
    "        if 'Errors' in response:\n",
    "            logging.error(\"An error occurred during bulk delete.\")\n",
    "            for error in response['Errors']:\n",
    "                logging.error(f\" - Could not delete '{error['Key']}': {error['Message']}\")\n",
    "            return False\n",
    "\n",
    "        logging.info(f\"Successfully deleted {len(delete_keys['Objects'])} objects from '{prefix_videos}'.\")\n",
    "        return True\n",
    "    except ClientError as e:\n",
    "        logging.error(f\"A Boto3 client error occurred: {e}\")\n",
    "        return False\n",
    "    except Exception as e:\n",
    "        logging.error(f\"An unexpected error occurred: {e}\")\n",
    "        return False"
   ]
  },
  {
   "cell_type": "code",
   "execution_count": 18,
   "id": "c9e8a69e-34a5-4ec0-abb2-314dcaabf43b",
   "metadata": {},
   "outputs": [],
   "source": [
    "def format_video(s3_client, video_name):\n",
    "    try:\n",
    "        # Download img to memory\n",
    "        resp = s3_client.get_object(\n",
    "            Bucket=LANDING_ZONE_BUCKET,\n",
    "            Key=video_name\n",
    "        )\n",
    "        video_data = resp['Body'].read()\n",
    "\n",
    "        # Open img with Pillow\n",
    "        with Image.open(io.BytesIO(image_data)) as img:\n",
    "            # RGB does not support transparency channel\n",
    "            if img.mode in ('RGBA', 'LA', 'P'):\n",
    "                img = img.convert('RGB')\n",
    "\n",
    "            # Save converted img to JPG buffer\n",
    "            output_buffer = io.BytesIO()\n",
    "            img.save(output_buffer, format='JPEG')\n",
    "            output_buffer.seek(0)\n",
    "\n",
    "        # Create new key for formatted video\n",
    "        base_name = img_name.split('/')[-1].split('.')\n",
    "        new_key = f'{MEDIA_SUB_BUCKET}/image/{base_name}.jpg'\n",
    "\n",
    "        s3_client.upload_fileobj(output_buffer, FORMATTED_ZONE_BUCKET, new_key)\n",
    "        logging.info(f\"Successfully converted '{key}' to '{new_key}'\")\n",
    "\n",
    "    except Exception as e:\n",
    "        logging.error(f\"Failed to process video '{key}'. Error: {e}\")"
   ]
  },
  {
   "cell_type": "code",
   "execution_count": 13,
   "id": "72e47af3-0785-4607-b459-6325b033dfc2",
   "metadata": {},
   "outputs": [],
   "source": [
    "def move_to_formatted_zone(s3_client, video_name):\n",
    "    base_name = video_name.split('/')[-1]\n",
    "    new_key = f'{MEDIA_SUB_BUCKET}/video/{base_name}'\n",
    "    s3_client.copy_object(\n",
    "        Bucket=FORMATTED_ZONE_BUCKET,\n",
    "        CopySource={\n",
    "            \"Bucket\": LANDING_ZONE_BUCKET,\n",
    "            \"Key\": video_name\n",
    "        },\n",
    "        Key=new_key\n",
    "    )\n",
    "    logging.info(f\"Copied object {video_name} to {new_key} in formatted zone.\")"
   ]
  },
  {
   "cell_type": "markdown",
   "id": "0bc88311-eedf-41b7-b936-0603195c0712",
   "metadata": {},
   "source": [
    "Update formatted zone by deleting previous content if needed."
   ]
  },
  {
   "cell_type": "code",
   "execution_count": 14,
   "id": "5776316f-15f3-4d67-a56b-624272e18915",
   "metadata": {},
   "outputs": [
    {
     "data": {
      "text/plain": [
       "True"
      ]
     },
     "execution_count": 14,
     "metadata": {},
     "output_type": "execute_result"
    }
   ],
   "source": [
    "delete_videos_from_formatted(s3_client)"
   ]
  },
  {
   "cell_type": "markdown",
   "id": "137dbb48-bb74-479c-a0dd-19ffcd24c04f",
   "metadata": {},
   "source": [
    "Formatting of videos: if the video has a format different from MP4, it is formatted and inserted into Formatted zone. Otherwise, if the video has already MP4 format, it is copied directly to the Formatted Zone."
   ]
  },
  {
   "cell_type": "code",
   "execution_count": 22,
   "id": "38f436b9-cea1-46cb-82b1-f2fd58937a7e",
   "metadata": {},
   "outputs": [],
   "source": [
    "logging.info(\"Starting video format transformation...\")\n",
    "for vid in objects['Contents']:\n",
    "    name_video = vid['Key']\n",
    "    format_video = name_video.split('.')[-1].lower()\n",
    "    if format_video != TARGET_VIDEO_FORMAT:\n",
    "        format_video(s3_client, name_video) # format and move to formatted zone\n",
    "    else:\n",
    "        move_to_formatted_zone(s3_client, name_video) # just move to formatted zone"
   ]
  },
  {
   "cell_type": "code",
   "execution_count": 23,
   "id": "6c3aa5c7-4f19-45b8-924f-e4e3c2796cd8",
   "metadata": {},
   "outputs": [
    {
     "name": "stdout",
     "output_type": "stream",
     "text": [
      "500\n"
     ]
    }
   ],
   "source": [
    "objects = s3_client.list_objects_v2(Bucket=FORMATTED_ZONE_BUCKET, Prefix=f'{MEDIA_SUB_BUCKET}/video/')\n",
    "print(len(objects['Contents']))"
   ]
  }
 ],
 "metadata": {
  "kernelspec": {
   "display_name": "Python 3 (ipykernel)",
   "language": "python",
   "name": "python3"
  },
  "language_info": {
   "codemirror_mode": {
    "name": "ipython",
    "version": 3
   },
   "file_extension": ".py",
   "mimetype": "text/x-python",
   "name": "python",
   "nbconvert_exporter": "python",
   "pygments_lexer": "ipython3",
   "version": "3.12.3"
  }
 },
 "nbformat": 4,
 "nbformat_minor": 5
}
